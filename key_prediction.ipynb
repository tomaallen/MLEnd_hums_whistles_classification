{
  "cells": [
    {
      "cell_type": "markdown",
      "metadata": {
        "id": "o38VQkcdKd6k"
      },
      "source": [
        "# 1 Problem formulation\n",
        "\n",
        "The problem I am trying to solve is to predict whether a hum or whistle audio file is in a major or minor key. Discerning the key of a song interpretation is interesting as it involves inferring relationships, or intervals, between musical notes from data in the frequency domain. In particular, major keys use the major third (4 semitones above the root/tonic of the key) and minor keys use the minor third (3 semitones above the root/tonic). If we know the tonic of a key, we should be able to infer whether the audio file is major or minor by which third is present.\n",
        "\n",
        "The first issue for this problem is to extract musical notes from the audio signal. When produced by instruments, inferring notes from audio signals is relatively easy as instruments are likely in-tune and notes reliably relate to a given pitch. For hum and whistle song interpretations, the audio signal may not always exactly match the expected pitch and may be interpreted in a transposed key. A frequency band can be used to convert from frequency to musical notes whilst allowing for some inaccuracies.\n",
        "\n",
        "Perhaps a larger problem is knowing the tonic of the key so the third can be identified. Any solution to this problem needs to infer the tonic before being able to classify audio files based upon the presence of major or minor thirds. My solution will need to incorporate assumptions for finding the tonic.\n",
        "\n",
        "Nevertheless, song interpretations should retain enough structure of the original song to discern major from minor song. A solution to this problem could be applied to quickly tell users whether a song extract is major or minor, simply by humming or whistling the melody."
      ]
    },
    {
      "cell_type": "markdown",
      "metadata": {
        "id": "N3BwrtEdLDit"
      },
      "source": [
        "# 2 Machine Learning pipeline"
      ]
    },
    {
      "cell_type": "markdown",
      "metadata": {
        "id": "dIPkW1EDAkb7"
      },
      "source": [
        "__Input:__\n",
        "\n",
        "The inputs of my pipeline are raw audio files from the MLEnd hums and whistles data set, consisting of a short segment from one of six songs, as interpreted by a participant in the MLEnd study. Of the six songs, three are in a major key (Singing in the Rain, Mamma Mia and Hakuna Matata) and three are in a minor key (Harry Potter theme, Imperial March and Pink Panther). For novel applications, the input of the pipeline would be hum or whistle interpretations of new or existing songs by a new interpreter.\n",
        "\n",
        "__Intermediate stages:__\n",
        "\n",
        "Feature extraction:\n",
        "\n",
        "I will extract the percentage of time in each audio file during which the minor and major third are hummed or whistled. To do this I will generate a chromagram of each audio file, giving relative amplitudes of each musical note (A to G#) at each time. I assume the note being hummed/whistled at any given time is that with the largest amplitude. To extract the minor and major third, I assume that the note hummed or whistled most is the tonic of the key and extract the notes 3 and 4 semitones above the tonic.\n",
        "\n",
        "Classification model:\n",
        "\n",
        "A support vector machine, trained using a subset of all files from the MLEnd dataset, will classify the audio file using the percentage of time the minor (feature 1) and major (feature 2) thirds are hummed or whistled.\n",
        "\n",
        "\n",
        "__Output:__\n",
        "\n",
        "The output of my pipeline is a classification for each audio file in the input as either major or minor.\n"
      ]
    },
    {
      "cell_type": "markdown",
      "metadata": {
        "id": "j1nDXnzYLLH6"
      },
      "source": [
        "# 3 Transformation stage"
      ]
    },
    {
      "cell_type": "markdown",
      "metadata": {
        "id": "hdan_cXW9MJX"
      },
      "source": [
        "__Chromagram:__\n",
        "\n",
        "Input - raw audio file.\n",
        "\n",
        "Output - chromagram.\n",
        "\n",
        "A chromagram will be generated from a resampled time series of each audio file. This involves binning frequencies such that a relative amplitude is generated for each musical note (A through G#) at each time. The chromagram considers the same notes from different octaves equivalent. For instance, a middle C and high C are both considered 'C'.\n",
        "\n",
        "__Percentage of Time Note is Hummed/Whistled:__\n",
        "\n",
        "Input - chromagram.\n",
        "\n",
        "Output - percentage of time each note is hummed or whistled.\n",
        "\n",
        "Following this, I will extract the note with greatest relative amplitude at each time, making the assumption that this is the note being hummed or whistled. I will then total the counts for each note to get an estimate of how often each note is hummed or whistled during the audio file and divide by the total number of time bins to account for differences in length of recording.\n",
        "\n",
        "__Assuming the Tonic:__\n",
        "\n",
        "Input: percentage of time each note is hummed or whistled.\n",
        "\n",
        "Output - percentage of time minor and major thirds are hummed or whistled.\n",
        "\n",
        "To locate the major and minor thirds, I will assume that the tonic is the note hummed or whistled most often in each interpretation. I will then extract the percentage of the time during which the the minor and major thirds and hummed or whistled for each song interpretation. I will use these two percentages as features to train my models."
      ]
    },
    {
      "cell_type": "markdown",
      "metadata": {
        "id": "0F5_kI95LuZ2"
      },
      "source": [
        "# 4 Modelling"
      ]
    },
    {
      "cell_type": "markdown",
      "metadata": {
        "id": "TiE9GNwf9mUW"
      },
      "source": [
        "__Support Vector Machine:__\n",
        "\n",
        "A support vector machine (SVM) will be implemented to classify song interpretations into major and minor keys. A radial basis function (rbf) kernel will be used as interpretations are likely to be in two, perhaps overlapping, clusters with respect to the minor and major third features.*\n",
        "\n",
        "__K-nearest neighbour:__\n",
        "\n",
        "The K-nearest-neighbour classifier will predict that an interpretation is in a major key if the majority of training interpretations closest in latent feature space (Euclidean distance), to that of the test interpretation, are in a major key. Otherwise, the model will predict that the interpretation is in a minor key.\n",
        "\n",
        "__Naive Bayes Classifier:__\n",
        "\n",
        "A naive Bayes classifier will be trained on the major and minor third features to predict whether interpretations are major or minor. The distribution of songs in latent feature space for major and minor songs are assumed to be Gaussian.* Priors for each class will be generated from the training dataset and will be close to 0.5 as there are a near equal number of interpretations of major and minor songs in the training set.\n",
        "\n",
        "\\* Although this may not be strictly true, since interpretations for each song (e.g. Mamma Mia vs Hakuna Matata) may differ in features, it is expected that major songs will be grouped together in feature space, as will minor songs."
      ]
    },
    {
      "cell_type": "markdown",
      "metadata": {
        "id": "bPTSuaB9L2jU"
      },
      "source": [
        "# 5 Methodology"
      ]
    },
    {
      "cell_type": "markdown",
      "metadata": {
        "id": "vdmZIAbQ8-tA"
      },
      "source": [
        "For each model the following training and validation procedure will be carried out:\n",
        "\n",
        "Models will be trained and validated using a subset of my dataset. The original dataset, consisting of all six songs, will be separated into a training set and a test set. 100 participants (out of 209) will be randomly selected and their audio files will be used for training and validation. The remaining 109 participants' data will be used as test data. The training dataset will further be divided into training and validation subsets, with a 70/30 split, through random selection.\n",
        "\n",
        "This training and validation procedure will be repeated for each candidate value of K (1 $\\le$ K $\\le$ 15) in the K-nearest neighbour model. Default parameters (from the sklearn library) are used for the support vector machine and naive bayes classifier during validation.\n",
        "\n",
        "Accuracy will be used as a quality metric for model performance during validation since I am interested in how often the model makes a correct prediction. There is no need to value the prediction of one class more than the other as correctly predicting major and minor is equally important.\n",
        "\n",
        "To investigate whether prediction of major or minor is better than the other I will generate confusion matrices for each model. The percentage of correct predictions for actual major or minor interpretations (recall) will be used as a measure to compare how good the model is at predicting major versus minor.\n",
        "\n",
        "The model with highest validation accuracy will be selected for use in the final pipeline and trained using the entire training dataset (all data from the selected 100 participants). The test accuracy and confusion matrix of the final model will then be calculated for the test dataset."
      ]
    },
    {
      "cell_type": "markdown",
      "metadata": {
        "id": "HZQPxztuL9AW"
      },
      "source": [
        "# 6 Dataset"
      ]
    },
    {
      "cell_type": "markdown",
      "metadata": {
        "id": "Od2pUwFKaSse"
      },
      "source": [
        "The dataset I will use to train and validate my models is a subset of the MLEnd dataset, using only 6 songs, from 100 randomly sampled participants. Data from these 100 participants will be randomly split into training and validation sets."
      ]
    },
    {
      "cell_type": "markdown",
      "metadata": {
        "id": "687ERPZlKh8J"
      },
      "source": [
        "## Import Data"
      ]
    },
    {
      "cell_type": "code",
      "execution_count": null,
      "metadata": {
        "id": "Xrc2uGIcJ7WB"
      },
      "outputs": [],
      "source": [
        "import numpy as np\n",
        "import pandas as pd\n",
        "import matplotlib.pyplot as plt\n",
        "\n",
        "import os, sys, re, pickle, glob\n",
        "import urllib.request\n",
        "from tqdm import tqdm\n",
        "\n",
        "import librosa\n",
        "import librosa.display\n",
        "\n",
        "import re"
      ]
    },
    {
      "cell_type": "code",
      "execution_count": null,
      "metadata": {
        "colab": {
          "base_uri": "https://localhost:8080/"
        },
        "id": "jFFK3j0vJ8dx",
        "outputId": "2671f1c3-77e2-45a8-8c70-26077e5d63d7"
      },
      "outputs": [
        {
          "data": {
            "text/plain": [
              "2502"
            ]
          },
          "execution_count": 2,
          "metadata": {},
          "output_type": "execute_result"
        }
      ],
      "source": [
        "sample_path = 'C:/Users/taall/Documents/Postgrad/Machine_Learning/Mini_Project/all_data_adv/*.wav'\n",
        "\n",
        "files = glob.glob(sample_path)\n",
        "len(files)"
      ]
    },
    {
      "cell_type": "code",
      "execution_count": null,
      "metadata": {
        "colab": {
          "base_uri": "https://localhost:8080/"
        },
        "id": "8gxDddvsJ-gl",
        "outputId": "b33dfafe-3748-4025-ec0d-27559a688a3d"
      },
      "outputs": [
        {
          "data": {
            "text/plain": [
              "[['S100_hum_1_Hakuna.wav', '100', 'hum', '1', 'Hakuna', 'major'],\n",
              " ['S100_hum_1_Potter.wav', '100', 'hum', '1', 'Potter', 'minor'],\n",
              " ['S100_hum_1_Rain.wav', '100', 'hum', '1', 'Rain', 'major'],\n",
              " ['S100_hum_2_Hakuna.wav', '100', 'hum', '2', 'Hakuna', 'major']]"
            ]
          },
          "execution_count": 3,
          "metadata": {},
          "output_type": "execute_result"
        }
      ],
      "source": [
        "MLEND_table = [] \n",
        "problem_names = []\n",
        "\n",
        "for file in files:\n",
        "    file_name = file.split('\\\\')[-1]\n",
        "\n",
        "    # ppt ID\n",
        "    find_ID = re.match('S[0-9]{1,3}', file_name)\n",
        "    if find_ID:\n",
        "        ppt_ID = find_ID.group(0)[1:]\n",
        "    else:\n",
        "        ppt_ID = 'unknown'\n",
        "        problem_names.append(file_name)\n",
        "\n",
        "    # interpretation type\n",
        "    hum = re.search('h[a,u]m', file_name, re.IGNORECASE)\n",
        "    whistle = re.search('whi', file_name, re.IGNORECASE)\n",
        "    if hum:\n",
        "        interpret_type = 'hum'\n",
        "    elif whistle:\n",
        "        interpret_type = 'whistle'\n",
        "    else:\n",
        "        interpret_type = 'unknown'\n",
        "        problem_names.append(file_name)\n",
        "\n",
        "    # interpretation number\n",
        "    find_num = re.search('[^S0-9][0-9]', file_name)\n",
        "    if find_num:\n",
        "        interpret_num = find_num.group(0)[1]\n",
        "    else:\n",
        "        interpret_num = 'unknown'\n",
        "        problem_names.append(file_name)\n",
        "\n",
        "    # song\n",
        "    potter = re.search('pot', file_name, re.IGNORECASE)\n",
        "    starwars = re.search('sta', file_name, re.IGNORECASE)\n",
        "    imperial = re.search('imp', file_name, re.IGNORECASE)\n",
        "    panther = re.search('pan', file_name, re.IGNORECASE)\n",
        "    rain = re.search('rai', file_name, re.IGNORECASE)\n",
        "    hakuna = re.search('h[a,u]k', file_name, re.IGNORECASE)\n",
        "    mamma = re.search('ma', file_name, re.IGNORECASE)\n",
        "    if potter:\n",
        "        song = 'Potter'\n",
        "        key = 'minor'\n",
        "    elif (bool(starwars) | bool(imperial)):\n",
        "        song = 'StarWars'\n",
        "        key = 'minor'\n",
        "    elif panther:\n",
        "        song = 'Panther'\n",
        "        key = 'minor'\n",
        "    elif rain:\n",
        "        song = 'Rain'\n",
        "        key = 'major'\n",
        "    elif hakuna:\n",
        "        song = 'Hakuna'\n",
        "        key = 'major'\n",
        "    elif mamma:\n",
        "        song = 'Mamma'\n",
        "        key = 'major'\n",
        "    else:\n",
        "        song = 'unknown'\n",
        "        key = 'unknown'\n",
        "        problem_names.append(file_name)\n",
        "\n",
        "    MLEND_table.append([file_name, ppt_ID, interpret_type, interpret_num, song, key])\n",
        "\n",
        "MLEND_table[:4]"
      ]
    },
    {
      "cell_type": "code",
      "execution_count": null,
      "metadata": {
        "colab": {
          "base_uri": "https://localhost:8080/",
          "height": 455
        },
        "id": "LULA5xQwKl6d",
        "outputId": "b50f689b-3fb4-4e57-fe56-afafd5f14440"
      },
      "outputs": [
        {
          "data": {
            "text/html": [
              "<div>\n",
              "<style scoped>\n",
              "    .dataframe tbody tr th:only-of-type {\n",
              "        vertical-align: middle;\n",
              "    }\n",
              "\n",
              "    .dataframe tbody tr th {\n",
              "        vertical-align: top;\n",
              "    }\n",
              "\n",
              "    .dataframe thead th {\n",
              "        text-align: right;\n",
              "    }\n",
              "</style>\n",
              "<table border=\"1\" class=\"dataframe\">\n",
              "  <thead>\n",
              "    <tr style=\"text-align: right;\">\n",
              "      <th></th>\n",
              "      <th>participant</th>\n",
              "      <th>interpretation</th>\n",
              "      <th>number</th>\n",
              "      <th>song</th>\n",
              "      <th>key</th>\n",
              "    </tr>\n",
              "    <tr>\n",
              "      <th>file_id</th>\n",
              "      <th></th>\n",
              "      <th></th>\n",
              "      <th></th>\n",
              "      <th></th>\n",
              "      <th></th>\n",
              "    </tr>\n",
              "  </thead>\n",
              "  <tbody>\n",
              "    <tr>\n",
              "      <th>S100_hum_1_Hakuna.wav</th>\n",
              "      <td>100</td>\n",
              "      <td>hum</td>\n",
              "      <td>1</td>\n",
              "      <td>Hakuna</td>\n",
              "      <td>major</td>\n",
              "    </tr>\n",
              "    <tr>\n",
              "      <th>S100_hum_1_Potter.wav</th>\n",
              "      <td>100</td>\n",
              "      <td>hum</td>\n",
              "      <td>1</td>\n",
              "      <td>Potter</td>\n",
              "      <td>minor</td>\n",
              "    </tr>\n",
              "    <tr>\n",
              "      <th>S100_hum_1_Rain.wav</th>\n",
              "      <td>100</td>\n",
              "      <td>hum</td>\n",
              "      <td>1</td>\n",
              "      <td>Rain</td>\n",
              "      <td>major</td>\n",
              "    </tr>\n",
              "    <tr>\n",
              "      <th>S100_hum_2_Hakuna.wav</th>\n",
              "      <td>100</td>\n",
              "      <td>hum</td>\n",
              "      <td>2</td>\n",
              "      <td>Hakuna</td>\n",
              "      <td>major</td>\n",
              "    </tr>\n",
              "    <tr>\n",
              "      <th>S100_hum_2_Mamma.wav</th>\n",
              "      <td>100</td>\n",
              "      <td>hum</td>\n",
              "      <td>2</td>\n",
              "      <td>Mamma</td>\n",
              "      <td>major</td>\n",
              "    </tr>\n",
              "    <tr>\n",
              "      <th>...</th>\n",
              "      <td>...</td>\n",
              "      <td>...</td>\n",
              "      <td>...</td>\n",
              "      <td>...</td>\n",
              "      <td>...</td>\n",
              "    </tr>\n",
              "    <tr>\n",
              "      <th>S9_hum_3_Mamma.wav</th>\n",
              "      <td>9</td>\n",
              "      <td>hum</td>\n",
              "      <td>3</td>\n",
              "      <td>Mamma</td>\n",
              "      <td>major</td>\n",
              "    </tr>\n",
              "    <tr>\n",
              "      <th>S9_hum_3_StarWars.wav</th>\n",
              "      <td>9</td>\n",
              "      <td>hum</td>\n",
              "      <td>3</td>\n",
              "      <td>StarWars</td>\n",
              "      <td>minor</td>\n",
              "    </tr>\n",
              "    <tr>\n",
              "      <th>S9_hum_4_Panther.wav</th>\n",
              "      <td>9</td>\n",
              "      <td>hum</td>\n",
              "      <td>4</td>\n",
              "      <td>Panther</td>\n",
              "      <td>minor</td>\n",
              "    </tr>\n",
              "    <tr>\n",
              "      <th>S9_hum_4_Rain.wav</th>\n",
              "      <td>9</td>\n",
              "      <td>hum</td>\n",
              "      <td>4</td>\n",
              "      <td>Rain</td>\n",
              "      <td>major</td>\n",
              "    </tr>\n",
              "    <tr>\n",
              "      <th>S9_hum_4_StarWars.wav</th>\n",
              "      <td>9</td>\n",
              "      <td>hum</td>\n",
              "      <td>4</td>\n",
              "      <td>StarWars</td>\n",
              "      <td>minor</td>\n",
              "    </tr>\n",
              "  </tbody>\n",
              "</table>\n",
              "<p>2502 rows × 5 columns</p>\n",
              "</div>"
            ],
            "text/plain": [
              "                       participant interpretation number      song    key\n",
              "file_id                                                                  \n",
              "S100_hum_1_Hakuna.wav          100            hum      1    Hakuna  major\n",
              "S100_hum_1_Potter.wav          100            hum      1    Potter  minor\n",
              "S100_hum_1_Rain.wav            100            hum      1      Rain  major\n",
              "S100_hum_2_Hakuna.wav          100            hum      2    Hakuna  major\n",
              "S100_hum_2_Mamma.wav           100            hum      2     Mamma  major\n",
              "...                            ...            ...    ...       ...    ...\n",
              "S9_hum_3_Mamma.wav               9            hum      3     Mamma  major\n",
              "S9_hum_3_StarWars.wav            9            hum      3  StarWars  minor\n",
              "S9_hum_4_Panther.wav             9            hum      4   Panther  minor\n",
              "S9_hum_4_Rain.wav                9            hum      4      Rain  major\n",
              "S9_hum_4_StarWars.wav            9            hum      4  StarWars  minor\n",
              "\n",
              "[2502 rows x 5 columns]"
            ]
          },
          "execution_count": 4,
          "metadata": {},
          "output_type": "execute_result"
        }
      ],
      "source": [
        "MLEND_df = pd.DataFrame(MLEND_table,columns=['file_id','participant','interpretation','number','song','key']).set_index('file_id') \n",
        "MLEND_df.participant = pd.to_numeric(MLEND_df.participant)\n",
        "MLEND_df"
      ]
    },
    {
      "cell_type": "markdown",
      "metadata": {
        "id": "2j3KMMUU7BDK"
      },
      "source": [
        "## Split Dataset into Training and Test"
      ]
    },
    {
      "cell_type": "code",
      "execution_count": null,
      "metadata": {
        "colab": {
          "base_uri": "https://localhost:8080/"
        },
        "id": "nmrFsr0P7Fgl",
        "outputId": "2a75fa9f-e2c9-4c46-98ba-266e782f7334"
      },
      "outputs": [
        {
          "data": {
            "text/plain": [
              "1094"
            ]
          },
          "execution_count": 75,
          "metadata": {},
          "output_type": "execute_result"
        }
      ],
      "source": [
        "MLEND_df.participant = pd.to_numeric(MLEND_df.participant)\n",
        "selection = np.random.choice(range(1, max(MLEND_df.participant) + 1), 100, replace=False)\n",
        "condition = [(i in selection) for i in MLEND_df.participant]\n",
        "use_df = MLEND_df.loc[condition]\n",
        "use_files = []\n",
        "for file in files:\n",
        "    file_name = file.split('\\\\')[-1]\n",
        "    files_cond = any(use_df.index == file_name)\n",
        "    if files_cond:\n",
        "        use_files.append(file)\n",
        "\n",
        "len(use_files)"
      ]
    },
    {
      "cell_type": "markdown",
      "metadata": {
        "id": "attNB2JZK3ch"
      },
      "source": [
        "## Example Resampled Time Series from Audio File"
      ]
    },
    {
      "cell_type": "code",
      "execution_count": null,
      "metadata": {
        "colab": {
          "base_uri": "https://localhost:8080/",
          "height": 279
        },
        "id": "06s5B5cpK75e",
        "outputId": "5af0cd48-b4ab-48be-8e1c-4c2f052b8d4a",
        "scrolled": true
      },
      "outputs": [
        {
          "data": {
            "image/png": "[encoded data removed]",
            "text/plain": [
              "<Figure size 432x288 with 1 Axes>"
            ]
          },
          "metadata": {
            "needs_background": "light"
          },
          "output_type": "display_data"
        }
      ],
      "source": [
        "fs = None\n",
        "x, fs = librosa.load(files[20],sr=fs)\n",
        "t = np.arange(len(x))/fs\n",
        "plt.plot(t,x)\n",
        "plt.xlabel('time (sec)')\n",
        "plt.ylabel('amplitude')\n",
        "plt.show()"
      ]
    },
    {
      "cell_type": "markdown",
      "metadata": {
        "id": "7MF3lwJsS7PA"
      },
      "source": [
        "The above graph shows amplitude over time for a single audio file."
      ]
    },
    {
      "cell_type": "markdown",
      "metadata": {
        "id": "dZXlbVec1k4z"
      },
      "source": [
        "## Example Chroma Frequencies"
      ]
    },
    {
      "cell_type": "code",
      "execution_count": null,
      "metadata": {
        "colab": {
          "base_uri": "https://localhost:8080/",
          "height": 334
        },
        "id": "MlEcDaWr0ulB",
        "outputId": "226440ee-81fc-494a-e2ef-4b6d563c050a",
        "scrolled": true
      },
      "outputs": [
        {
          "data": {
            "image/png": "[encoded data removed]",
            "text/plain": [
              "<Figure size 1080x360 with 1 Axes>"
            ]
          },
          "metadata": {
            "needs_background": "light"
          },
          "output_type": "display_data"
        }
      ],
      "source": [
        "x, fs = librosa.load(files[20],sr=fs)\n",
        "hop_length = 512\n",
        "chromagram = librosa.feature.chroma_stft(x, sr=fs, hop_length=hop_length)\n",
        "plt.figure(figsize=(15, 5))\n",
        "_ = librosa.display.specshow(chromagram, x_axis='time', y_axis='chroma', hop_length=hop_length, cmap='coolwarm')"
      ]
    },
    {
      "cell_type": "markdown",
      "metadata": {
        "id": "LQxC6IqkS7PB"
      },
      "source": [
        "The above graph shows a chromagram of a single audio file. Pitch class or note is shown on the y axis and time on the x axis. Red colour denotes high amplitude for frequencies in a given pitch class and blue denotes low amplitude."
      ]
    },
    {
      "cell_type": "markdown",
      "metadata": {
        "id": "ZqS9TmoqbVVv"
      },
      "source": [
        "## For How Long is Each Note Whistled/Hummed? \n",
        "\n",
        "For each note, the number of time bins in which the given note has a higher amplitude than all others is calculated."
      ]
    },
    {
      "cell_type": "code",
      "execution_count": null,
      "metadata": {
        "colab": {
          "base_uri": "https://localhost:8080/"
        },
        "id": "I5jU616Bfv1K",
        "outputId": "9bc5401b-bd98-4907-f631-98a54f66045e"
      },
      "outputs": [
        {
          "data": {
            "text/plain": [
              "array([ 63, 114,  71,  89, 157,  23,  11,  60, 226, 332, 246,  37],\n",
              "      dtype=int64)"
            ]
          },
          "execution_count": 53,
          "metadata": {},
          "output_type": "execute_result"
        }
      ],
      "source": [
        "notes = np.bincount(np.argmax(chromagram, axis=0))\n",
        "notes"
      ]
    },
    {
      "cell_type": "markdown",
      "metadata": {
        "id": "Eox3NDFJS7PC"
      },
      "source": [
        "## Assuming the Tonic Note\n",
        "\n",
        "The tonic is assumed to be the note which is hummed or whistled longest. The array is rearranged such that the tonic is in position 0, the minor third in position 3, and major third in position 4."
      ]
    },
    {
      "cell_type": "code",
      "execution_count": null,
      "metadata": {
        "id": "gPqJmgWpS7PC",
        "outputId": "2e7adfc7-da88-443d-acfa-7b23898a9728"
      },
      "outputs": [
        {
          "data": {
            "text/plain": [
              "array([332, 246,  37,  63, 114,  71,  89, 157,  23,  11,  60, 226],\n",
              "      dtype=int64)"
            ]
          },
          "execution_count": 54,
          "metadata": {},
          "output_type": "execute_result"
        }
      ],
      "source": [
        "notes_tonic = np.roll(notes, notes.size - notes.argmax())\n",
        "notes_tonic"
      ]
    },
    {
      "cell_type": "markdown",
      "metadata": {
        "id": "XQrmMK8XS7PD"
      },
      "source": [
        "## Normalising for Length of Recording\n",
        "The number of time bins in which each note was hummed or whistled is divided by the total number of time bins in the time series, to account for differences in length of recording between audio files."
      ]
    },
    {
      "cell_type": "code",
      "execution_count": null,
      "metadata": {
        "id": "0oKnEAK1S7PD",
        "outputId": "14db7e58-e17e-43d1-a4ae-2d7ed73a2304"
      },
      "outputs": [
        {
          "data": {
            "text/plain": [
              "array([0.2323303 , 0.17214836, 0.02589223, 0.04408677, 0.07977607,\n",
              "       0.04968509, 0.06228132, 0.10986704, 0.01609517, 0.00769769,\n",
              "       0.0419874 , 0.15815255])"
            ]
          },
          "execution_count": 55,
          "metadata": {},
          "output_type": "execute_result"
        }
      ],
      "source": [
        "notes_percent = notes_tonic / np.sum(notes_tonic)\n",
        "notes_percent"
      ]
    },
    {
      "cell_type": "markdown",
      "metadata": {
        "id": "lROrwnotS7PD"
      },
      "source": [
        "## Visualising Percentage Time Hummed/Whistled for a Single Audio File"
      ]
    },
    {
      "cell_type": "code",
      "execution_count": null,
      "metadata": {
        "id": "vks3Ca9iS7PE",
        "outputId": "5e03d15c-7f40-4830-f332-9214c88afbe6"
      },
      "outputs": [
        {
          "data": {
            "image/png": "[encoded data removed]",
            "text/plain": [
              "<Figure size 432x288 with 1 Axes>"
            ]
          },
          "metadata": {
            "needs_background": "light"
          },
          "output_type": "display_data"
        }
      ],
      "source": [
        "plt.bar(['Tonic','Minor 2','Major 2','Minor 3','Major 3','4','Flat 5','5','Sharp 5','6','Minor 7','Major 7'],\n",
        "        height = notes_percent * 100)\n",
        "_ = plt.xticks(rotation=90)\n",
        "_ = plt.ylabel('Percentage time hummed or whistled')"
      ]
    },
    {
      "cell_type": "markdown",
      "metadata": {
        "id": "SuCTEB1FlODl"
      },
      "source": [
        "## Extract Chroma Frequencies"
      ]
    },
    {
      "cell_type": "code",
      "execution_count": null,
      "metadata": {
        "colab": {
          "base_uri": "https://localhost:8080/"
        },
        "id": "peXDcmcflNhv",
        "outputId": "91bac6fc-f085-45c1-d73c-36772cd8c26d"
      },
      "outputs": [
        {
          "name": "stderr",
          "output_type": "stream",
          "text": [
            "100%|██████████████████████████████████████████████████████████████████████████████| 1148/1148 [04:05<00:00,  4.67it/s]\n"
          ]
        }
      ],
      "source": [
        "def get_features(files, labels_file):\n",
        "    X,y =[],[]\n",
        "    for file in tqdm(files):\n",
        "        fileID = file.split('\\\\')[-1]\n",
        "        yi = labels_file.loc[fileID, 'key']=='major'\n",
        "\n",
        "        fs = None\n",
        "        x, fs = librosa.load(file,sr=fs)\n",
        "        hop_length = 512\n",
        "        chromagram = librosa.feature.chroma_stft(x, sr=fs, hop_length=hop_length)\n",
        "        notes = np.bincount(np.argmax(chromagram, axis=0), minlength=12)\n",
        "        notes_tonic = np.roll(notes, notes.size - notes.argmax())\n",
        "        notes_percent = notes_tonic / np.sum(notes_tonic)\n",
        "\n",
        "        xi = notes_percent\n",
        "        X.append(xi)\n",
        "        y.append(yi)\n",
        "\n",
        "    return np.array(X),np.array(y)\n",
        "\n",
        "X, y = get_features(use_files, use_df)"
      ]
    },
    {
      "cell_type": "markdown",
      "metadata": {
        "id": "Crgk7wn5S7PF"
      },
      "source": [
        "## Select Thirds from Features"
      ]
    },
    {
      "cell_type": "code",
      "execution_count": null,
      "metadata": {
        "id": "YhkXJarIS7PF"
      },
      "outputs": [],
      "source": [
        "thirds = X[:,[3,4]]"
      ]
    },
    {
      "cell_type": "markdown",
      "metadata": {
        "id": "CD8XCQjqS7PF"
      },
      "source": [
        "## Visualise Major vs Minor Thirds from Training Data"
      ]
    },
    {
      "cell_type": "code",
      "execution_count": null,
      "metadata": {
        "scrolled": false,
        "id": "ZFDq_1SCS7PF",
        "outputId": "7c41ea84-3795-4215-c96c-4a3bd1c72ac1"
      },
      "outputs": [
        {
          "data": {
            "image/png": "[encoded data removed]",
            "text/plain": [
              "<Figure size 720x432 with 1 Axes>"
            ]
          },
          "metadata": {
            "needs_background": "light"
          },
          "output_type": "display_data"
        }
      ],
      "source": [
        "# Plot 3D scatterplot\n",
        "from matplotlib import cm\n",
        "from matplotlib.colors import ListedColormap, LinearSegmentedColormap\n",
        "cmap = cm.get_cmap('viridis', 8)\n",
        "\n",
        "fig, ax = plt.subplots(1, 1, figsize=(10,6))\n",
        "p = ax.scatter(X[:,3],X[:,4],c=y, cmap=cmap)\n",
        "ax.set_xlabel('Minor Third Time Hummed/Whistled')\n",
        "ax.set_ylabel('Major Third Time Hummed/Whistled')\n",
        "plt.show()"
      ]
    },
    {
      "cell_type": "markdown",
      "metadata": {
        "id": "-zaxfE8CS7PG"
      },
      "source": [
        "The above graph shows percentage time hummed/whistled for minor versus major third. Each point shows a song interpretation, with interpretations of major songs shown in yellow and minor songs in purple. The major and minor third features seem not to distinguish minor and major songs well. Ideally we would see a split with major songs above the line x=y and minor songs below the line x=y. This will be discussed in the conclusion."
      ]
    },
    {
      "cell_type": "markdown",
      "metadata": {
        "id": "2qf7GN1aeXJI"
      },
      "source": [
        "# 7 Results"
      ]
    },
    {
      "cell_type": "markdown",
      "metadata": {
        "id": "UZzNtRgH-wjn"
      },
      "source": [
        "## Train and Validate Models"
      ]
    },
    {
      "cell_type": "markdown",
      "metadata": {
        "id": "JQ0KHJlYS7PG"
      },
      "source": [
        "### Split Training Data into Training and Validation Subsets"
      ]
    },
    {
      "cell_type": "code",
      "execution_count": null,
      "metadata": {
        "id": "wleipl5NS7PG",
        "outputId": "407ba0ec-77e4-4aeb-9503-37d7886ec38a"
      },
      "outputs": [
        {
          "data": {
            "text/plain": [
              "((803, 2), (345, 2), (803,), (345,))"
            ]
          },
          "execution_count": 79,
          "metadata": {},
          "output_type": "execute_result"
        }
      ],
      "source": [
        "from sklearn import svm\n",
        "from sklearn.model_selection import train_test_split\n",
        "\n",
        "X_train, X_val, y_train, y_val = train_test_split(thirds,y,test_size=0.3)    # change test size\n",
        "X_train.shape, X_val.shape, y_train.shape, y_val.shape"
      ]
    },
    {
      "cell_type": "markdown",
      "metadata": {
        "id": "_5aToCB5-zBe"
      },
      "source": [
        "### Support Vector Machine"
      ]
    },
    {
      "cell_type": "code",
      "execution_count": null,
      "metadata": {
        "colab": {
          "base_uri": "https://localhost:8080/"
        },
        "id": "rPpa3Gwf_AAW",
        "outputId": "1ff23131-99bd-4cdf-c417-a63e858bfd73",
        "scrolled": true
      },
      "outputs": [
        {
          "name": "stdout",
          "output_type": "stream",
          "text": [
            "Training Accuracy 0.5828144458281445\n",
            "Validation  Accuracy 0.5739130434782609\n",
            "The support vectors are (729, 2)\n",
            "Validation recall for minor songs 0.7125748502994012\n",
            "Validation recall for major songs 0.4438202247191011\n"
          ]
        },
        {
          "data": {
            "text/html": [
              "<div>\n",
              "<style scoped>\n",
              "    .dataframe tbody tr th:only-of-type {\n",
              "        vertical-align: middle;\n",
              "    }\n",
              "\n",
              "    .dataframe tbody tr th {\n",
              "        vertical-align: top;\n",
              "    }\n",
              "\n",
              "    .dataframe thead th {\n",
              "        text-align: right;\n",
              "    }\n",
              "</style>\n",
              "<table border=\"1\" class=\"dataframe\">\n",
              "  <thead>\n",
              "    <tr style=\"text-align: right;\">\n",
              "      <th></th>\n",
              "      <th>pred_minor</th>\n",
              "      <th>pred_major</th>\n",
              "    </tr>\n",
              "  </thead>\n",
              "  <tbody>\n",
              "    <tr>\n",
              "      <th>minor</th>\n",
              "      <td>119</td>\n",
              "      <td>48</td>\n",
              "    </tr>\n",
              "    <tr>\n",
              "      <th>major</th>\n",
              "      <td>99</td>\n",
              "      <td>79</td>\n",
              "    </tr>\n",
              "  </tbody>\n",
              "</table>\n",
              "</div>"
            ],
            "text/plain": [
              "       pred_minor  pred_major\n",
              "minor         119          48\n",
              "major          99          79"
            ]
          },
          "execution_count": 145,
          "metadata": {},
          "output_type": "execute_result"
        }
      ],
      "source": [
        "from sklearn import svm\n",
        "\n",
        "SVC  = svm.SVC()\n",
        "SVC.fit(X_train,y_train)\n",
        "\n",
        "yt_p = SVC.predict(X_train)\n",
        "yv_p = SVC.predict(X_val)\n",
        "\n",
        "print('Training Accuracy', np.mean(yt_p==y_train))\n",
        "print('Validation  Accuracy', np.mean(yv_p==y_val))\n",
        "print('The support vectors are', SVC.support_vectors_.shape)\n",
        "\n",
        "from sklearn.metrics import confusion_matrix\n",
        "conf_matrix = confusion_matrix(y_true=y_val, y_pred=SVC.predict(X_val))\n",
        "print('Validation recall for minor songs', conf_matrix[0,0] / np.sum(conf_matrix[0]))\n",
        "print('Validation recall for major songs', conf_matrix[1,1] / np.sum(conf_matrix[1]))\n",
        "pd.DataFrame(conf_matrix, columns = ['pred_minor', 'pred_major'], index = ['minor', 'major'])"
      ]
    },
    {
      "cell_type": "markdown",
      "metadata": {
        "id": "eQ1pMNix-49K"
      },
      "source": [
        "### K-Nearest Neighbour"
      ]
    },
    {
      "cell_type": "code",
      "execution_count": null,
      "metadata": {
        "colab": {
          "base_uri": "https://localhost:8080/",
          "height": 265
        },
        "id": "M2wITDhTANKX",
        "outputId": "a201d4dc-98cd-4905-912b-732a1446afef"
      },
      "outputs": [
        {
          "data": {
            "image/png": "[encoded data removed]",
            "text/plain": [
              "<Figure size 432x288 with 1 Axes>"
            ]
          },
          "metadata": {
            "needs_background": "light"
          },
          "output_type": "display_data"
        }
      ],
      "source": [
        "from sklearn import neighbors\n",
        "\n",
        "ks = range(1,16)\n",
        "\n",
        "y_hat_t = dict.fromkeys(ks)\n",
        "y_hat_v = dict.fromkeys(ks)\n",
        "accuracy_t = dict.fromkeys(ks)\n",
        "accuracy_v = dict.fromkeys(ks)\n",
        "conf_mat_t = dict.fromkeys(ks)\n",
        "conf_mat_v = dict.fromkeys(ks)\n",
        "\n",
        "for k in ks:\n",
        "    knn = neighbors.KNeighborsClassifier(n_neighbors=k)\n",
        "    knn.fit(X_train, y_train)\n",
        "    y_hat_t[k] = knn.predict(X_train)\n",
        "    y_hat_v[k] = knn.predict(X_val)\n",
        "    accuracy_t[k] = np.sum(y_train==y_hat_t[k])/len(y_train)\n",
        "    accuracy_v[k] = np.sum(y_val==y_hat_v[k])/len(y_val)\n",
        "    conf_mat_t[k] = confusion_matrix(y_true=y_train, y_pred=y_hat_t[k])\n",
        "    conf_mat_v[k] = confusion_matrix(y_true=y_val, y_pred=y_hat_v[k])\n",
        "\n",
        "\n",
        "figure, ax = plt.subplots(1, 1)\n",
        "_ = ax.plot(ks, list(accuracy_t.values()))\n",
        "_ = ax.plot(ks, list(accuracy_v.values()), c='red')"
      ]
    },
    {
      "cell_type": "markdown",
      "metadata": {
        "id": "UaZ7HYIBS7PI"
      },
      "source": [
        "#### Select K = 7\n",
        "\n",
        "Both K = 7 and K = 11 have some of the highest validation accuracies. K = 7 is selected to reduce the number of comparisons needed to classify songs."
      ]
    },
    {
      "cell_type": "code",
      "execution_count": null,
      "metadata": {
        "id": "8S621V1ZS7PJ",
        "outputId": "9406f414-10d1-4591-a08c-a731f199f2e1"
      },
      "outputs": [
        {
          "name": "stdout",
          "output_type": "stream",
          "text": [
            "Training accuracy 0.6699875466998755\n",
            "Validation accuracy 0.5594202898550724\n",
            "Validation recall for minor songs 0.6347305389221557\n",
            "Validation recall for major songs 0.4887640449438202\n"
          ]
        },
        {
          "data": {
            "text/html": [
              "<div>\n",
              "<style scoped>\n",
              "    .dataframe tbody tr th:only-of-type {\n",
              "        vertical-align: middle;\n",
              "    }\n",
              "\n",
              "    .dataframe tbody tr th {\n",
              "        vertical-align: top;\n",
              "    }\n",
              "\n",
              "    .dataframe thead th {\n",
              "        text-align: right;\n",
              "    }\n",
              "</style>\n",
              "<table border=\"1\" class=\"dataframe\">\n",
              "  <thead>\n",
              "    <tr style=\"text-align: right;\">\n",
              "      <th></th>\n",
              "      <th>pred_minor</th>\n",
              "      <th>pred_major</th>\n",
              "    </tr>\n",
              "  </thead>\n",
              "  <tbody>\n",
              "    <tr>\n",
              "      <th>minor</th>\n",
              "      <td>106</td>\n",
              "      <td>61</td>\n",
              "    </tr>\n",
              "    <tr>\n",
              "      <th>major</th>\n",
              "      <td>91</td>\n",
              "      <td>87</td>\n",
              "    </tr>\n",
              "  </tbody>\n",
              "</table>\n",
              "</div>"
            ],
            "text/plain": [
              "       pred_minor  pred_major\n",
              "minor         106          61\n",
              "major          91          87"
            ]
          },
          "execution_count": 144,
          "metadata": {},
          "output_type": "execute_result"
        }
      ],
      "source": [
        "print('Training accuracy', accuracy_t[7])\n",
        "print('Validation accuracy', accuracy_v[7])\n",
        "print('Validation recall for minor songs', conf_mat_v[7][0,0] / np.sum(conf_mat_v[7][0]))\n",
        "print('Validation recall for major songs', conf_mat_v[7][1,1] / np.sum(conf_mat_v[7][1]))\n",
        "pd.DataFrame(conf_mat_v[7], columns = ['pred_minor', 'pred_major'], index = ['minor', 'major'])"
      ]
    },
    {
      "cell_type": "markdown",
      "metadata": {
        "id": "Y2ZsuILN-8Fa"
      },
      "source": [
        "### Naive Bayes Classifier"
      ]
    },
    {
      "cell_type": "code",
      "execution_count": null,
      "metadata": {
        "colab": {
          "base_uri": "https://localhost:8080/"
        },
        "id": "mzmhMB5zDM0u",
        "outputId": "ed819680-57cb-48cd-d5d9-99570986ad14",
        "scrolled": true
      },
      "outputs": [
        {
          "name": "stdout",
          "output_type": "stream",
          "text": [
            "Training Accuracy 0.5566625155666252\n",
            "Validation  Accuracy 0.5333333333333333\n",
            "Validation recall for minor songs 0.6646706586826348\n",
            "Validation recall for major songs 0.4101123595505618\n"
          ]
        },
        {
          "data": {
            "text/html": [
              "<div>\n",
              "<style scoped>\n",
              "    .dataframe tbody tr th:only-of-type {\n",
              "        vertical-align: middle;\n",
              "    }\n",
              "\n",
              "    .dataframe tbody tr th {\n",
              "        vertical-align: top;\n",
              "    }\n",
              "\n",
              "    .dataframe thead th {\n",
              "        text-align: right;\n",
              "    }\n",
              "</style>\n",
              "<table border=\"1\" class=\"dataframe\">\n",
              "  <thead>\n",
              "    <tr style=\"text-align: right;\">\n",
              "      <th></th>\n",
              "      <th>pred_minor</th>\n",
              "      <th>pred_major</th>\n",
              "    </tr>\n",
              "  </thead>\n",
              "  <tbody>\n",
              "    <tr>\n",
              "      <th>minor</th>\n",
              "      <td>111</td>\n",
              "      <td>56</td>\n",
              "    </tr>\n",
              "    <tr>\n",
              "      <th>major</th>\n",
              "      <td>105</td>\n",
              "      <td>73</td>\n",
              "    </tr>\n",
              "  </tbody>\n",
              "</table>\n",
              "</div>"
            ],
            "text/plain": [
              "       pred_minor  pred_major\n",
              "minor         111          56\n",
              "major         105          73"
            ]
          },
          "execution_count": 142,
          "metadata": {},
          "output_type": "execute_result"
        }
      ],
      "source": [
        "from sklearn.naive_bayes import GaussianNB\n",
        "gnb = GaussianNB()\n",
        "gnb.fit(X_train, y_train)\n",
        "\n",
        "yt_p = gnb.predict(X_train)\n",
        "yv_p = gnb.predict(X_val)\n",
        "\n",
        "print('Training Accuracy', np.mean(yt_p==y_train))\n",
        "print('Validation  Accuracy', np.mean(yv_p==y_val))\n",
        "\n",
        "conf_matrix = confusion_matrix(y_true=y_val, y_pred=gnb.predict(X_val))\n",
        "print('Validation recall for minor songs', conf_matrix[0,0] / np.sum(conf_matrix[0]))\n",
        "print('Validation recall for major songs', conf_matrix[1,1] / np.sum(conf_matrix[1]))\n",
        "pd.DataFrame(conf_matrix, columns = ['pred_minor', 'pred_major'], index = ['minor', 'major'])"
      ]
    },
    {
      "cell_type": "markdown",
      "metadata": {
        "id": "hw2pyZ0vS7PK"
      },
      "source": [
        "## Model Selection"
      ]
    },
    {
      "cell_type": "markdown",
      "metadata": {
        "id": "QNSqwCMqS7PK"
      },
      "source": [
        "The support vector machine has the best validation accuracy (0.574) so will be used in the final machine learning pipeline."
      ]
    },
    {
      "cell_type": "markdown",
      "metadata": {
        "id": "NP0dL5TmS7PK"
      },
      "source": [
        "## Test Final Model"
      ]
    },
    {
      "cell_type": "code",
      "execution_count": null,
      "metadata": {
        "id": "iJbnKigXyPdj",
        "outputId": "ebb534b1-2b27-4449-9a1d-ad6a41aa918b"
      },
      "outputs": [
        {
          "data": {
            "text/plain": [
              "1408"
            ]
          },
          "execution_count": 91,
          "metadata": {},
          "output_type": "execute_result"
        }
      ],
      "source": [
        "test_condition = [not (i in selection) for i in MLEND_df.participant]\n",
        "test_df = MLEND_df.loc[test_condition]\n",
        "test_files = []\n",
        "for file in files:\n",
        "    file_name = file.split('\\\\')[-1]\n",
        "    files_cond = any(test_df.index == file_name)\n",
        "    if files_cond:\n",
        "        test_files.append(file)\n",
        "\n",
        "len(test_files)"
      ]
    },
    {
      "cell_type": "code",
      "execution_count": null,
      "metadata": {
        "id": "WPD5SXYzS7PL",
        "outputId": "8a87a3a6-701a-4389-abbf-78729db99769"
      },
      "outputs": [
        {
          "name": "stderr",
          "output_type": "stream",
          "text": [
            "100%|██████████████████████████████████████████████████████████████████████████████| 1408/1408 [05:00<00:00,  4.69it/s]\n"
          ]
        }
      ],
      "source": [
        "X_test, y_test = get_features(test_files, test_df)"
      ]
    },
    {
      "cell_type": "code",
      "execution_count": null,
      "metadata": {
        "scrolled": true,
        "id": "UpNyS0y6S7PL",
        "outputId": "0cfd4fd5-0e09-479a-fe5d-15fa83061d7e"
      },
      "outputs": [
        {
          "name": "stdout",
          "output_type": "stream",
          "text": [
            "Test Accuracy 0.5589488636363636\n",
            "Test recall for minor songs 0.6860795454545454\n",
            "Test recall for major songs 0.4318181818181818\n"
          ]
        },
        {
          "data": {
            "text/html": [
              "<div>\n",
              "<style scoped>\n",
              "    .dataframe tbody tr th:only-of-type {\n",
              "        vertical-align: middle;\n",
              "    }\n",
              "\n",
              "    .dataframe tbody tr th {\n",
              "        vertical-align: top;\n",
              "    }\n",
              "\n",
              "    .dataframe thead th {\n",
              "        text-align: right;\n",
              "    }\n",
              "</style>\n",
              "<table border=\"1\" class=\"dataframe\">\n",
              "  <thead>\n",
              "    <tr style=\"text-align: right;\">\n",
              "      <th></th>\n",
              "      <th>pred_minor</th>\n",
              "      <th>pred_major</th>\n",
              "    </tr>\n",
              "  </thead>\n",
              "  <tbody>\n",
              "    <tr>\n",
              "      <th>minor</th>\n",
              "      <td>483</td>\n",
              "      <td>221</td>\n",
              "    </tr>\n",
              "    <tr>\n",
              "      <th>major</th>\n",
              "      <td>400</td>\n",
              "      <td>304</td>\n",
              "    </tr>\n",
              "  </tbody>\n",
              "</table>\n",
              "</div>"
            ],
            "text/plain": [
              "       pred_minor  pred_major\n",
              "minor         483         221\n",
              "major         400         304"
            ]
          },
          "execution_count": 143,
          "metadata": {},
          "output_type": "execute_result"
        }
      ],
      "source": [
        "thirds_test = X_test[:,[3,4]]\n",
        "ytest_p = SVC.predict(thirds_test)\n",
        "print('Test Accuracy', np.mean(ytest_p==y_test))\n",
        "conf_matrix = confusion_matrix(y_true=y_test, y_pred=ytest_p)\n",
        "print('Test recall for minor songs', conf_matrix[0,0] / np.sum(conf_matrix[0]))\n",
        "print('Test recall for major songs', conf_matrix[1,1] / np.sum(conf_matrix[1]))\n",
        "pd.DataFrame(conf_matrix, columns = ['pred_minor', 'pred_major'], index = ['minor', 'major'])"
      ]
    },
    {
      "cell_type": "markdown",
      "metadata": {
        "id": "9NkQhFqfS7PL"
      },
      "source": [
        "## Explaining Results"
      ]
    },
    {
      "cell_type": "markdown",
      "metadata": {
        "id": "9vqxSjOgS7PL"
      },
      "source": [
        "Three models were trained on the minor and major third features. These features represented the percentage of time during which the minor or major third note was hummed or whistled in a song interpretation. The model with highest validation accuracy was the support vector machine (57.4%), which was used in the final machine learning pipeline.\n",
        "\n",
        "The final model's test accuracy was 55.9%, suggesting the model is not very good at discerning major from minor song interpretations. The test recall for minor songs (68.6%) was higher than that for major songs (43.2%), indicating that the model performs better when given an interpretation of a song in a minor key than in a major key."
      ]
    },
    {
      "cell_type": "markdown",
      "metadata": {
        "id": "fSrJCR_cekPO"
      },
      "source": [
        "# 8 Conclusions"
      ]
    },
    {
      "cell_type": "markdown",
      "metadata": {
        "id": "-K7jTB_BJImg"
      },
      "source": [
        "My final model does not predict whether song interpretations are major or minor well, with a test accuracy close to 50% chance (test accuracy = 55.9%). One explanation for this is that the features that the model uses may not be suitable for classifying major and minor songs.\n",
        "\n",
        "Major and minor thirds may have been extracted incorrectly for some song interpretations because the tonic is not the most hummed/whistled note in the audio file. The tonic is not always the most played note in a song's melody, so making this assumption when extracting thirds may have led to features which were not the true minor and major third of the song. Moreover, interpreters may not always have been humming or whistling in tune. With major and minor thirds only one semitone away from each other, the distinction may have been blurred when hums and whistles were at boundary frequencies between musical notes.\n",
        "\n",
        "An alternative could be to keep the percentage of time hummed/whistled for all notes, without assuming which is the tonic, and use all 12 values as features. This may allow the model to distinguish songs based on the percentage of notes in each interpretation and perhaps discern major from minor in this way. Although this may be a more effective solution, with a training dataset which only includes three major and three minor songs, it is likely that models would overfit to these particular songs. A model such as this would likely not generalise well to predicting novel major or minor song interpretations, if trained on so few songs. A larger dataset, consisting of songs in many different major and minor keys (A minor, B minor, C# major etc.), should be used so that the model can learn to distinguish major from minor and not one song from another.\n",
        "\n",
        "A final improvement that could be made to my pipeline is the inclusion of further data cleaning. In particular, noise at the start and end of recordings was not removed. This may have played a part in the identification of incorrect tonics. The trim method from the librosa library could be used to implement this and remove low amplitude noise from the start and end of audio files before feature extraction."
      ]
    }
  ],
  "metadata": {
    "colab": {
      "collapsed_sections": [],
      "name": "key_prediction.ipynb",
      "provenance": []
    },
    "kernelspec": {
      "display_name": "Python 3",
      "language": "python",
      "name": "python3"
    },
    "language_info": {
      "codemirror_mode": {
        "name": "ipython",
        "version": 3
      },
      "file_extension": ".py",
      "mimetype": "text/x-python",
      "name": "python",
      "nbconvert_exporter": "python",
      "pygments_lexer": "ipython3",
      "version": "3.8.8"
    }
  },
  "nbformat": 4,
  "nbformat_minor": 0
}